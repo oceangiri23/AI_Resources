{
 "cells": [
  {
   "cell_type": "markdown",
   "id": "a8ed69c5-8128-4dd3-bc05-8cc2367f0653",
   "metadata": {
    "deletable": false,
    "editable": false,
    "nbgrader": {
     "cell_type": "markdown",
     "checksum": "f1944ae9e8eb31f59dd241b44d83ceda",
     "grade": false,
     "grade_id": "cell-c93959a6a0618280",
     "locked": true,
     "schema_version": 3,
     "solution": false,
     "task": false
    }
   },
   "source": [
    "# Named Entity Recognition (NER) Assignment\n",
    "\n",
    "In this assignment, you will fine-tune a pre-trained transformer model for a Named Entity Recognition (NER) task using the CoNLL-2003 dataset.\n",
    "\n",
    "## Step 1: Setup\n",
    "Let's start by installing the necessary libraries."
   ]
  },
  {
   "cell_type": "code",
   "execution_count": null,
   "id": "731ceac9-7ce9-47ab-b711-9acc7517520c",
   "metadata": {
    "deletable": false,
    "editable": false,
    "nbgrader": {
     "cell_type": "code",
     "checksum": "c36de732a8532d205a8cf04b79d76be4",
     "grade": false,
     "grade_id": "cell-c672a174460125c9",
     "locked": true,
     "schema_version": 3,
     "solution": false,
     "task": false
    }
   },
   "outputs": [],
   "source": [
    "# Install the transformers library\n",
    "!pip install transformers datasets\n",
    "!pip install transformers[torch]\n",
    "!pip install seqeval"
   ]
  },
  {
   "cell_type": "code",
   "execution_count": null,
   "id": "1db96e90-ecdf-4da3-9c37-d26f9d80ccc9",
   "metadata": {
    "deletable": false,
    "editable": false,
    "nbgrader": {
     "cell_type": "code",
     "checksum": "729d5d6e5bc78f6ee13f57867267bc46",
     "grade": false,
     "grade_id": "cell-813a3472b93b7d2d",
     "locked": true,
     "schema_version": 3,
     "solution": false,
     "task": false
    }
   },
   "outputs": [],
   "source": [
    "# Install the necessary libraries\n",
    "!pip install transformers datasets seqeval"
   ]
  },
  {
   "cell_type": "code",
   "execution_count": null,
   "id": "6401b592-e2a3-4344-8e14-b18c0b1e689b",
   "metadata": {
    "deletable": false,
    "editable": false,
    "nbgrader": {
     "cell_type": "code",
     "checksum": "c92ccfca3a302278ad9bdddb3e87e1f6",
     "grade": false,
     "grade_id": "cell-f291b16fe72c5055",
     "locked": true,
     "schema_version": 3,
     "solution": false,
     "task": false
    }
   },
   "outputs": [],
   "source": [
    "# Import necessary libraries\n",
    "import torch\n",
    "from transformers import AutoTokenizer, AutoModelForTokenClassification, TrainingArguments, Trainer\n",
    "from datasets import load_dataset, load_metric, ClassLabel\n",
    "import numpy as np"
   ]
  },
  {
   "cell_type": "code",
   "execution_count": null,
   "id": "93dfe82a-74a5-4545-a7e1-2d70cbf69f40",
   "metadata": {
    "deletable": false,
    "editable": false,
    "nbgrader": {
     "cell_type": "code",
     "checksum": "8a8a48970bad8eedc433aad71f5f72de",
     "grade": false,
     "grade_id": "cell-ae827c3b2ecc1726",
     "locked": true,
     "schema_version": 3,
     "solution": false,
     "task": false
    }
   },
   "outputs": [],
   "source": [
    "device = torch.device(\"cuda\" if torch.cuda.is_available() else \"cpu\")"
   ]
  },
  {
   "cell_type": "markdown",
   "id": "4749c12c-56af-4e77-9e08-1dfc42d43072",
   "metadata": {
    "deletable": false,
    "editable": false,
    "nbgrader": {
     "cell_type": "markdown",
     "checksum": "9b1be46c464373344ef16cfdf5937c2e",
     "grade": false,
     "grade_id": "cell-722753beb0ffd7d6",
     "locked": true,
     "schema_version": 3,
     "solution": false,
     "task": false
    }
   },
   "source": [
    "## Step 2: Load Dataset\n",
    "We will use the CoNLL-2003 dataset, which is available through the `datasets` library."
   ]
  },
  {
   "cell_type": "code",
   "execution_count": null,
   "id": "c54b322c-970c-4ac9-a3f2-12c1607005f6",
   "metadata": {
    "deletable": false,
    "editable": false,
    "nbgrader": {
     "cell_type": "code",
     "checksum": "4c99f9eefc04b22ee986beff4468b32d",
     "grade": false,
     "grade_id": "cell-b2052f2cb815deae",
     "locked": true,
     "schema_version": 3,
     "solution": false,
     "task": false
    }
   },
   "outputs": [],
   "source": [
    "# Load the CoNLL-2003 dataset\n",
    "datasets = load_dataset(\"conll2003\", trust_remote_code=True)\n",
    "label_list = datasets[\"train\"].features[\"ner_tags\"].feature.names\n",
    "\n",
    "# Display dataset structure\n",
    "datasets"
   ]
  },
  {
   "cell_type": "markdown",
   "id": "821d0a7e-1e92-4d94-b6e0-d06c2762867f",
   "metadata": {
    "deletable": false,
    "editable": false,
    "nbgrader": {
     "cell_type": "markdown",
     "checksum": "bbcc5b33fecac33d5ce575253b823da2",
     "grade": false,
     "grade_id": "cell-9205af27f64c5118",
     "locked": true,
     "schema_version": 3,
     "solution": false,
     "task": false
    }
   },
   "source": [
    "## Step 3: Tokenization\n",
    "We need to tokenize the dataset using a pre-trained tokenizer."
   ]
  },
  {
   "cell_type": "code",
   "execution_count": null,
   "id": "1c7df792-1a7e-4ff9-96dc-14d70c0945b9",
   "metadata": {
    "deletable": false,
    "editable": false,
    "nbgrader": {
     "cell_type": "code",
     "checksum": "4a21d3194f8f935e470dac957a62e8a6",
     "grade": false,
     "grade_id": "cell-48735c45bda0a726",
     "locked": true,
     "schema_version": 3,
     "solution": false,
     "task": false
    }
   },
   "outputs": [],
   "source": [
    "# Load a pre-trained tokenizer\n",
    "model_checkpoint = \"distilbert-base-uncased\"\n",
    "tokenizer = AutoTokenizer.from_pretrained(model_checkpoint)\n",
    "\n",
    "# Tokenize the dataset\n",
    "def tokenize_and_align_labels(examples):\n",
    "    tokenized_inputs = tokenizer(examples[\"tokens\"], truncation=True, is_split_into_words=True, padding=\"max_length\")\n",
    "    labels = []\n",
    "    for i, label in enumerate(examples[\"ner_tags\"]):\n",
    "        word_ids = tokenized_inputs.word_ids(batch_index=i)\n",
    "        previous_word_idx = None\n",
    "        label_ids = []\n",
    "        for word_idx in word_ids:\n",
    "            if word_idx is None:\n",
    "                label_ids.append(-100)\n",
    "            elif word_idx != previous_word_idx:\n",
    "                label_ids.append(label[word_idx])# append label of patricular word index in label_ids # begin code() # end code()\n",
    "            else:\n",
    "                label_ids.append(-100)\n",
    "            previous_word_idx = word_idx\n",
    "        labels.append(label_ids)\n",
    "    tokenized_inputs[\"labels\"] = labels\n",
    "    return tokenized_inputs"
   ]
  },
  {
   "cell_type": "code",
   "execution_count": null,
   "id": "030aa7bd-464a-41b9-8938-2f84b346f289",
   "metadata": {
    "deletable": false,
    "editable": false,
    "nbgrader": {
     "cell_type": "code",
     "checksum": "529aa73ff502e9ebc2ca2fd0b9a22b47",
     "grade": false,
     "grade_id": "cell-878d2338ff63d7b3",
     "locked": true,
     "schema_version": 3,
     "solution": false,
     "task": false
    }
   },
   "outputs": [],
   "source": [
    "# Apply the tokenization and alignment function to the dataset\n",
    "tokenized_datasets = datasets.map(tokenize_and_align_labels, batched=True, remove_columns=datasets[\"train\"].column_names)\n",
    "tokenized_datasets.set_format(\"torch\")"
   ]
  },
  {
   "cell_type": "code",
   "execution_count": null,
   "id": "64b5845f-3d28-49dc-90e0-948039947a85",
   "metadata": {
    "deletable": false,
    "editable": false,
    "nbgrader": {
     "cell_type": "code",
     "checksum": "8dd97f752c75f518f97cf3e3a6bafddd",
     "grade": false,
     "grade_id": "cell-b55996eb144a2b5e",
     "locked": true,
     "schema_version": 3,
     "solution": false,
     "task": false
    }
   },
   "outputs": [],
   "source": [
    "tokenized_datasets"
   ]
  },
  {
   "cell_type": "markdown",
   "id": "c6b3ae16-71d0-4966-91ac-4660e5ce1889",
   "metadata": {
    "deletable": false,
    "editable": false,
    "nbgrader": {
     "cell_type": "markdown",
     "checksum": "b56c9ba756cb15632c331290505cfe50",
     "grade": false,
     "grade_id": "cell-41cca1e01ea78fb0",
     "locked": true,
     "schema_version": 3,
     "solution": false,
     "task": false
    }
   },
   "source": [
    "## Step 4: Load Pre-trained Model\n",
    "We will use a pre-trained `DistilBERT` model for token classification."
   ]
  },
  {
   "cell_type": "code",
   "execution_count": null,
   "id": "f9594ea7-4a8c-475e-b026-280134ca3978",
   "metadata": {
    "deletable": false,
    "editable": false,
    "nbgrader": {
     "cell_type": "code",
     "checksum": "cb3ea2a181c162e61ea0060c1803de35",
     "grade": false,
     "grade_id": "cell-ab25265269e1b276",
     "locked": true,
     "schema_version": 3,
     "solution": false,
     "task": false
    }
   },
   "outputs": [],
   "source": [
    "# Load a pre-trained model for token classification\n",
    "model = AutoModelForTokenClassification.from_pretrained(model_checkpoint, num_labels=len(label_list))"
   ]
  },
  {
   "cell_type": "markdown",
   "id": "845070dd-0a21-49d1-a806-338fea059872",
   "metadata": {
    "deletable": false,
    "editable": false,
    "nbgrader": {
     "cell_type": "markdown",
     "checksum": "090f7a8737de6ce57ac050e0d0955bed",
     "grade": false,
     "grade_id": "cell-13a1a2bad941cc57",
     "locked": true,
     "schema_version": 3,
     "solution": false,
     "task": false
    }
   },
   "source": [
    "## Step 5: Training\n",
    "We will train the model using the `Trainer` API."
   ]
  },
  {
   "cell_type": "code",
   "execution_count": null,
   "id": "598275a5-a1c0-4353-b7ec-7486b528ea13",
   "metadata": {
    "deletable": false,
    "editable": false,
    "nbgrader": {
     "cell_type": "code",
     "checksum": "f7a2b0b1d87a737cff80d47dddfa3770",
     "grade": false,
     "grade_id": "cell-12005bbe3bb79f4a",
     "locked": true,
     "schema_version": 3,
     "solution": false,
     "task": false
    }
   },
   "outputs": [],
   "source": [
    "# Define training arguments\n",
    "training_args = TrainingArguments(\n",
    "    output_dir=\"./results\",\n",
    "    evaluation_strategy=\"epoch\",\n",
    "    learning_rate=2e-5,\n",
    "    per_device_train_batch_size=16,\n",
    "    per_device_eval_batch_size=16,\n",
    "    num_train_epochs=3,\n",
    "    weight_decay=0.01,\n",
    ")\n",
    "\n",
    "# Define the metric\n",
    "metric = load_metric(\"seqeval\", trust_remote_code=True)"
   ]
  },
  {
   "cell_type": "code",
   "execution_count": null,
   "id": "e891792a-3962-4103-bbc3-51c9c981d94d",
   "metadata": {
    "deletable": false,
    "editable": false,
    "nbgrader": {
     "cell_type": "code",
     "checksum": "27526f149c7cbba99ab88f1be444fd64",
     "grade": false,
     "grade_id": "cell-e482fbd753197fda",
     "locked": true,
     "schema_version": 3,
     "solution": false,
     "task": false
    }
   },
   "outputs": [],
   "source": [
    "def compute_metrics(p):\n",
    "    predictions, labels = p\n",
    "    predictions = np.argmax(predictions, axis=2) # get the argmax of predictions # begin code() # end code()\n",
    "\n",
    "    true_predictions = [\n",
    "        [label_list[p] for (p, l) in zip(prediction, label) if l != -100]\n",
    "        for prediction, label in zip(predictions, labels)\n",
    "    ]\n",
    "\n",
    "    #create list of actual labels\n",
    "    true_labels = [ # create list of actual labels # begin code() # end code()\n",
    "        [label_list[l] for (p, l) in zip(prediction, label) if l != -100]\n",
    "        for prediction, label in zip(predictions, labels)\n",
    "    ]\n",
    "    \n",
    "    results = metric.compute(predictions=true_predictions, references=true_labels)\n",
    "    return {\n",
    "        \"precision\": results[\"overall_precision\"],\n",
    "        \"recall\": results[\"overall_recall\"],\n",
    "        \"f1\": results[\"overall_f1\"],\n",
    "        \"accuracy\": results[\"overall_accuracy\"],\n",
    "    }\n",
    "\n",
    "# Initialize the Trainer\n",
    "trainer = Trainer(\n",
    "    model=model,\n",
    "    args=training_args,\n",
    "    train_dataset=tokenized_datasets[\"train\"],\n",
    "    eval_dataset=tokenized_datasets[\"validation\"],\n",
    "    tokenizer=tokenizer,\n",
    "    compute_metrics=compute_metrics,\n",
    ")\n",
    "\n",
    "# Train the model\n",
    "trainer.train()"
   ]
  },
  {
   "cell_type": "markdown",
   "id": "e32a507b-0226-4b29-83c4-748d16464be8",
   "metadata": {
    "deletable": false,
    "editable": false,
    "nbgrader": {
     "cell_type": "markdown",
     "checksum": "ebeb602b194efa893f41b586086c3a90",
     "grade": false,
     "grade_id": "cell-0713dc170f9d53d9",
     "locked": true,
     "schema_version": 3,
     "solution": false,
     "task": false
    }
   },
   "source": [
    "## Step 6: Evaluation\n",
    "We will evaluate the model on the test set."
   ]
  },
  {
   "cell_type": "code",
   "execution_count": null,
   "id": "9ca96aa4-4b3a-4354-b88f-cf17797c965f",
   "metadata": {
    "deletable": false,
    "nbgrader": {
     "cell_type": "code",
     "checksum": "1e659a59466a1993c9bad6485db80597",
     "grade": false,
     "grade_id": "Ex-5-Task-1",
     "locked": false,
     "schema_version": 3,
     "solution": true,
     "task": false
    },
    "tags": [
     "Ex-5-Task-1"
    ]
   },
   "outputs": [],
   "source": [
    "### Ex-5-Task-1\n",
    "f1_score, precision, recall = None, None, None\n",
    "\n",
    "### BEGIN SOLUTION\n",
    "# Replace the resulted metric obtained from training\n",
    "# Put the metric resulted in the last epoch of the training\n",
    "raise NotImplementedError()\n",
    "### END SOLUTION"
   ]
  },
  {
   "cell_type": "code",
   "execution_count": null,
   "id": "934fda25-75ac-41f4-8fda-348857326e3a",
   "metadata": {
    "deletable": false,
    "editable": false,
    "nbgrader": {
     "cell_type": "code",
     "checksum": "e7b0de0ed52ac66b67110af1460fd3f7",
     "grade": true,
     "grade_id": "cell-f60f6a403b5e992f",
     "locked": true,
     "points": 6,
     "schema_version": 3,
     "solution": false,
     "task": false
    },
    "tags": [
     "Ex-5-Task-1"
    ]
   },
   "outputs": [],
   "source": [
    "# Evaluate the model\n",
    "results = trainer.evaluate(tokenized_datasets[\"test\"])\n",
    "\n",
    "\n",
    "# Print the evaluation results\n",
    "print(results)"
   ]
  },
  {
   "cell_type": "code",
   "execution_count": null,
   "id": "e0afe6a1-3178-4df6-93ec-a5b9fa437f59",
   "metadata": {
    "deletable": false,
    "editable": false,
    "nbgrader": {
     "cell_type": "code",
     "checksum": "49d1a83e040916aa453158ef4ada57dd",
     "grade": false,
     "grade_id": "cell-1a4666fecb524b2b",
     "locked": true,
     "schema_version": 3,
     "solution": false,
     "task": false
    }
   },
   "outputs": [],
   "source": [
    "# Function for NER inference\n",
    "def ner_inference(texts):\n",
    "    inputs = tokenizer(texts, return_tensors=\"pt\", truncation=True, padding=True).to(device) # tokenize the texts and load it in cuda # begin code() # end code()\n",
    "    with torch.no_grad():\n",
    "        outputs = model(**inputs) # pass input to model # begin code() # end code()\n",
    "    logits = outputs.logits\n",
    "    predictions = torch.argmax(logits, dim=2)\n",
    "    results = []\n",
    "    for i, text in enumerate(texts):\n",
    "        tokens = tokenizer.convert_ids_to_tokens(inputs[\"input_ids\"][i]) # convert ids to token # begin code() # end code()\n",
    "        pred = predictions[i].tolist()\n",
    "        result = [(token, label_list[p]) for token, p in zip(tokens, pred) if token not in [\"[CLS]\", \"[SEP]\", \"[PAD]\"]]\n",
    "        results.append(result)\n",
    "    return results"
   ]
  },
  {
   "cell_type": "code",
   "execution_count": null,
   "id": "d2bb564d-531e-4ac2-819d-162ba715b4ef",
   "metadata": {
    "deletable": false,
    "editable": false,
    "nbgrader": {
     "cell_type": "code",
     "checksum": "0f0677a7b3b08a04fa740d21a294ec0c",
     "grade": false,
     "grade_id": "cell-c1eddda6903f287d",
     "locked": true,
     "schema_version": 3,
     "solution": false,
     "task": false
    }
   },
   "outputs": [],
   "source": [
    "# Example sentences for NER inference\n",
    "texts = [\"Hugging Face Inc. is a company based in New York City.\", \"The quick brown fox jumps over the lazy dog.\"]\n",
    "ner_results = ner_inference(texts)\n",
    "\n",
    "# Print inference results\n",
    "for i, result in enumerate(ner_results):\n",
    "    print(f\"Sentence {i+1}:\")\n",
    "    for token, label in result:\n",
    "        print(f\"{token}: {label}\")"
   ]
  }
 ],
 "metadata": {
  "kernelspec": {
   "display_name": "Python 3 (ipykernel)",
   "language": "python",
   "name": "python3"
  },
  "language_info": {
   "codemirror_mode": {
    "name": "ipython",
    "version": 3
   },
   "file_extension": ".py",
   "mimetype": "text/x-python",
   "name": "python",
   "nbconvert_exporter": "python",
   "pygments_lexer": "ipython3",
   "version": "3.12.3"
  }
 },
 "nbformat": 4,
 "nbformat_minor": 5
}
